{
 "cells": [
  {
   "cell_type": "markdown",
   "metadata": {},
   "source": [
    "print함수는 값을 출력하는 함수이다."
   ]
  },
  {
   "cell_type": "code",
   "execution_count": 5,
   "metadata": {},
   "outputs": [
    {
     "name": "stdout",
     "output_type": "stream",
     "text": [
      "Hello,world!!!\n"
     ]
    }
   ],
   "source": [
    "print(\"Hello,world!!!\")"
   ]
  },
  {
   "cell_type": "code",
   "execution_count": 14,
   "metadata": {},
   "outputs": [
    {
     "name": "stdout",
     "output_type": "stream",
     "text": [
      "abc\n",
      "123\n",
      "123\n",
      "소인수\n",
      "      \n",
      "\n",
      "\n",
      "\n",
      "\n",
      "\n",
      "\n",
      "\n",
      "\n",
      "\n",
      "      \n",
      "\n",
      "      힘듬\n"
     ]
    }
   ],
   "source": [
    "print(\"abc\")\n",
    "print('123')\n",
    "print(123)\n",
    "\n",
    "print(\"\"\"소인수\n",
    "      \n",
    "\n",
    "\n",
    "      힘듬\"\"\")"
   ]
  },
  {
   "cell_type": "code",
   "execution_count": 21,
   "metadata": {},
   "outputs": [
    {
     "name": "stdout",
     "output_type": "stream",
     "text": [
      "3\n",
      "1+2\n"
     ]
    }
   ],
   "source": [
    "print(1+2)\n",
    "print(\"1+2\")"
   ]
  },
  {
   "cell_type": "code",
   "execution_count": 23,
   "metadata": {},
   "outputs": [
    {
     "name": "stdout",
     "output_type": "stream",
     "text": [
      "30\n",
      "1020\n"
     ]
    }
   ],
   "source": [
    "#+에 대한 설명\n",
    "print(10+20)\n",
    "print('10'+'20')"
   ]
  },
  {
   "cell_type": "code",
   "execution_count": 26,
   "metadata": {},
   "outputs": [
    {
     "name": "stdout",
     "output_type": "stream",
     "text": [
      "200\n",
      "0.5\n",
      "1024\n",
      "5\n",
      "1\n"
     ]
    }
   ],
   "source": [
    "#산술연산자\n",
    "print(10*20)\n",
    "print(10/20)\n",
    "#제곱\n",
    "print(2**10)\n",
    "#몫\n",
    "print(11//2)\n",
    "#나머지\n",
    "print(5%2)"
   ]
  },
  {
   "cell_type": "code",
   "execution_count": 30,
   "metadata": {},
   "outputs": [
    {
     "name": "stdout",
     "output_type": "stream",
     "text": [
      "50\n"
     ]
    }
   ],
   "source": [
    "#변수\n",
    "a = 10\n",
    "b = 20\n",
    "a = 30\n",
    "print(a+b)\n"
   ]
  },
  {
   "cell_type": "code",
   "execution_count": 35,
   "metadata": {},
   "outputs": [
    {
     "name": "stdout",
     "output_type": "stream",
     "text": [
      "230\n"
     ]
    }
   ],
   "source": [
    "#연산자 우선순위\n",
    "s=a+b*10\n",
    "print(s)"
   ]
  }
 ],
 "metadata": {
  "kernelspec": {
   "display_name": "Python 3",
   "language": "python",
   "name": "python3"
  },
  "language_info": {
   "codemirror_mode": {
    "name": "ipython",
    "version": 3
   },
   "file_extension": ".py",
   "mimetype": "text/x-python",
   "name": "python",
   "nbconvert_exporter": "python",
   "pygments_lexer": "ipython3",
   "version": "3.12.5"
  }
 },
 "nbformat": 4,
 "nbformat_minor": 2
}
