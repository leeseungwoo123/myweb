{
 "cells": [
  {
   "cell_type": "markdown",
   "metadata": {},
   "source": [
    "환율 계산\n",
    "1달러=1341"
   ]
  },
  {
   "cell_type": "code",
   "execution_count": 4,
   "metadata": {},
   "outputs": [
    {
     "name": "stdout",
     "output_type": "stream",
     "text": [
      "1489851\n"
     ]
    }
   ],
   "source": [
    "a = input()\n",
    "print(int(a)*1341)"
   ]
  },
  {
   "cell_type": "code",
   "execution_count": 16,
   "metadata": {},
   "outputs": [
    {
     "name": "stdout",
     "output_type": "stream",
     "text": [
      "16092\n"
     ]
    }
   ],
   "source": [
    "A=input()\n",
    "B=int(input())\n",
    "if A==\"유로\":\n",
    "    print(B*1478)\n",
    "elif A==\"달러\":\n",
    "    print(B*1341)\n",
    "elif A==\"파운드\":\n",
    "    print(B*1750)"
   ]
  },
  {
   "cell_type": "code",
   "execution_count": 19,
   "metadata": {},
   "outputs": [],
   "source": [
    "a=int(input())\n",
    "b=int(input())\n",
    "if a>b:\n",
    "    print(a)\n",
    "elif a<b:\n",
    "    print(b)"
   ]
  },
  {
   "cell_type": "code",
   "execution_count": 29,
   "metadata": {},
   "outputs": [
    {
     "name": "stdout",
     "output_type": "stream",
     "text": [
      "1234\n"
     ]
    }
   ],
   "source": [
    "a=int(input())\n",
    "b=int(input())\n",
    "c=int(input())\n",
    "if a>b and a>c:\n",
    "    print(a)\n",
    "elif b>a and b>c:\n",
    "    print(b)\n",
    "else:\n",
    "    print(c)"
   ]
  },
  {
   "cell_type": "code",
   "execution_count": 48,
   "metadata": {},
   "outputs": [
    {
     "name": "stdout",
     "output_type": "stream",
     "text": [
      "남자\n"
     ]
    }
   ],
   "source": [
    "a = input()\n",
    "if a[7]=='1' or a[7]=='3':\n",
    "    print('남자')\n",
    "elif a[7]=='2' or a[7]=='4':\n",
    "    print('여자')"
   ]
  },
  {
   "cell_type": "code",
   "execution_count": 51,
   "metadata": {},
   "outputs": [
    {
     "name": "stdout",
     "output_type": "stream",
     "text": [
      "대구\n"
     ]
    }
   ],
   "source": [
    "a = input()\n",
    "if a[8:10]=='67' or a[8:10]=='68' or a[8:10]=='69' or a[8:10]=='76':\n",
    "    print('대구')\n",
    "else:\n",
    "    print('대구 아님')"
   ]
  },
  {
   "cell_type": "code",
   "execution_count": 4,
   "metadata": {},
   "outputs": [
    {
     "name": "stdout",
     "output_type": "stream",
     "text": [
      "오류발생\n"
     ]
    }
   ],
   "source": [
    "a=input()\n",
    "NA=int(a[0])*2+int(a[1])*3+int(a[2])*4+int(a[3])*5+int(a[4])*6+int(a[5])*7+int(a[7])*8+int(a[8])*9+int(a[9])*2+int(a[10])*3+int(a[11])*4+int(a[12])*5\n",
    "r=str(11-NA%11)\n",
    "if a[-1]==r[-1]:\n",
    "    print('이상없음')\n",
    "else:\n",
    "    print('오류발생')\n"
   ]
  },
  {
   "cell_type": "code",
   "execution_count": 23,
   "metadata": {},
   "outputs": [
    {
     "name": "stdout",
     "output_type": "stream",
     "text": [
      "이상없음\n"
     ]
    }
   ],
   "source": [
    "\n",
    "a='080116-3698621'\n",
    "s=0\n",
    "key=2\n",
    "for i in a[:-1]:\n",
    "    if key==10:\n",
    "        key=2\n",
    "    if i!='-':\n",
    "        s=s+(int(i)*key)\n",
    "        key=key+1\n",
    "\n",
    "\n",
    "r=str(11-s%11)\n",
    "if a[-1]==r[-1]:\n",
    "    print('이상없음')\n",
    "else:\n",
    "    print('오류발생')\n",
    "\n",
    "\n",
    "\n"
   ]
  }
 ],
 "metadata": {
  "kernelspec": {
   "display_name": "Python 3",
   "language": "python",
   "name": "python3"
  },
  "language_info": {
   "codemirror_mode": {
    "name": "ipython",
    "version": 3
   },
   "file_extension": ".py",
   "mimetype": "text/x-python",
   "name": "python",
   "nbconvert_exporter": "python",
   "pygments_lexer": "ipython3",
   "version": "3.9.2"
  }
 },
 "nbformat": 4,
 "nbformat_minor": 2
}
